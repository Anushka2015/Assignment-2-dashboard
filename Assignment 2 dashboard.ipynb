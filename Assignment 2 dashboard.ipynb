{
 "cells": [
  {
   "cell_type": "code",
   "execution_count": null,
   "id": "e5018746",
   "metadata": {},
   "outputs": [],
   "source": [
    "#Q1. What are the two values of the Boolean data type? How do you write them?\n",
    "#Ans. True(1) and False(0) are two values of the Boolean data type."
   ]
  },
  {
   "cell_type": "code",
   "execution_count": null,
   "id": "5c724ef4",
   "metadata": {},
   "outputs": [],
   "source": [
    "#Q2. What are the three different types of Boolean operators?\n",
    "#Ans.and,not & or are three different types of Boolean operators."
   ]
  },
  {
   "cell_type": "code",
   "execution_count": null,
   "id": "5d04237c",
   "metadata": {},
   "outputs": [],
   "source": [
    "# Q3. Make a list of each Boolean operator's truth tables (i.e. every possible combination of Boolean\n",
    "#values for the operator and what it evaluate ).\n",
    "#----------------------------------------------------\n",
    "# Ans:Boolean Operators are as follows:\n",
    "#Comparison Operators\n",
    "#The table below is of Boolean comparison operators.\n",
    "\n",
    "#Operator            What it means\n",
    "#==                     Equal to\n",
    "#!=                   Not equal to\n",
    "#<                      Less than\n",
    "#>                    Greater than\n",
    "#<=              Less than or equal to\n",
    "#>=             Greater than or equal to\n",
    "\n",
    "#Logical Operators\n",
    "#There are three logical operators that are used to compare values. They evaluate expressions down to Boolean values, returning either True or False. These operators are and, or, and not and are defined in the table below.\n",
    "\n",
    "#Operator                      What it means              Example\n",
    "#and                          True if both are true        x and y\n",
    "#or                         True if at least one is true   x or y\n",
    "#not                           True only if false          not x\n",
    "#Below are truth tables for the comparison operator ==, and each of the logic operators and, or, and not. \n",
    "#== Truth Table\n",
    "#x    ==   y          Returns\n",
    "#True ==  True          True\n",
    "#True ==  False        False\n",
    "#False==  True         False\n",
    "#False==  False         True\n",
    "\n",
    "# AND Truth Table\n",
    "#x       and        y     Returns\n",
    "#True\tand\t  True         True\n",
    "#True\tand   False       False\n",
    "#False\tand\t   True       False\n",
    "#False\tand\t   False      False\n",
    "#OR Truth Table\n",
    " # x\t    or\ty\t   Returns\n",
    "#True\tor\tTrue\tTrue\n",
    "#True\tor\tFalse\tTrue\n",
    "#False\tor\tTrue\tTrue\n",
    "#False\tor\tFalse\tFalse\n",
    "#NOT Truth Table\n",
    "#not\tx\tReturns\n",
    "#not\t  True\tFalse\n",
    "#not\t  False\tTrue"
   ]
  },
  {
   "cell_type": "code",
   "execution_count": null,
   "id": "6bec5bcf",
   "metadata": {},
   "outputs": [],
   "source": [
    "#Q4. What are the values of the following expressions?\n",
    "#(5 > 4) and (3 == 5)\n",
    "#not (5 > 4)\n",
    "#(5 > 4) or (3 == 5)\n",
    "#not ((5 > 4) or (3 == 5))\n",
    "#(True and True) and (True == False)\n",
    "#(not False) or (not True)\n",
    "#----------------------------------------\n",
    "# Ans:(5>4)~True and (3==5)~False\n",
    "#False\n",
    "#not(5>4)\n",
    "#not True\n",
    "#False\n",
    "#(5 > 4) or (3 == 5)\n",
    "#True or False\n",
    "#True\n",
    "#(True and True) and (True == False)\n",
    "#True and False\n",
    "#False\n",
    "#(not False) or (not True)\n",
    "#True or False\n",
    "#True"
   ]
  },
  {
   "cell_type": "code",
   "execution_count": null,
   "id": "50fd100c",
   "metadata": {},
   "outputs": [],
   "source": [
    "#Q5. What are the six comparison operators?\n",
    "#------------------------\n",
    "# Ans 1.== equal to\n",
    "#2.!= not equal to\n",
    "#3.<  smaller than\n",
    "#4.>  greater than\n",
    "#5.<= smaller than equal to\n",
    "#6.>= greater than equal to"
   ]
  },
  {
   "cell_type": "code",
   "execution_count": null,
   "id": "9db5f94e",
   "metadata": {},
   "outputs": [],
   "source": [
    "#Q6. How do you tell the difference between the equal to and assignment operators?Describe a\n",
    "#condition and when you would use one.\n",
    "#----------------------------------------\n",
    "#Ans: for equal to use     \"==\"\n",
    "#for assignment use   \"=\"\n",
    "#When any data is same as the another data use \"==\"\n",
    "#When assigning a variable to data use \"=\""
   ]
  },
  {
   "cell_type": "code",
   "execution_count": null,
   "id": "cd8d4107",
   "metadata": {},
   "outputs": [],
   "source": [
    "#Q7. Identify the three blocks in this code:\n",
    "#spam = 0\n",
    "#if spam == 10:\n",
    "#print(&#39;eggs&#39;)\n",
    "#if spam &gt; 5:\n",
    "#print(&#39;bacon&#39;)\n",
    "#else:\n",
    "#print(&#39;ham&#39;)\n",
    "#print(&#39;spam&#39;)\n",
    "#print(&#39;spam&#39;)\n",
    "-----------------------\n",
    "#Ans. Nested if block\n",
    " #   and else block"
   ]
  },
  {
   "cell_type": "code",
   "execution_count": 36,
   "id": "14d14b35",
   "metadata": {},
   "outputs": [
    {
     "name": "stdout",
     "output_type": "stream",
     "text": [
      "1\n",
      "Hello\n",
      "Greetings!\n"
     ]
    }
   ],
   "source": [
    "#Q8. Write code that prints Hello if 1 is stored in spam, prints How are you if 2 is stored in spam, and prints\n",
    "#Greetings! if anything else is stored in spam.\n",
    "spam=int(input())\n",
    "if spam==1:\n",
    "    print(\"Hello\")\n",
    "if spam==2:\n",
    "    print(\"how are you\")\n",
    "else:\n",
    "        print(\"Greetings!\")"
   ]
  },
  {
   "cell_type": "code",
   "execution_count": 17,
   "id": "f6012a6a",
   "metadata": {},
   "outputs": [
    {
     "name": "stdout",
     "output_type": "stream",
     "text": [
      "2\n",
      "How are you\n"
     ]
    }
   ],
   "source": [
    "#Q8. Write code that prints Hello if 1 is stored in spam, prints How are you if 2 is stored in spam, and prints\n",
    "#Greetings! if anything else is stored in spam.\n",
    "spam=int(input())\n",
    "if spam==1:\n",
    "    print(\"Hello\")\n",
    "if spam==2:\n",
    "        print(\"How are you\" )\n",
    "else:\n",
    "     print(\"Greetings!\")"
   ]
  },
  {
   "cell_type": "code",
   "execution_count": 23,
   "id": "339f5c3f",
   "metadata": {},
   "outputs": [
    {
     "name": "stdout",
     "output_type": "stream",
     "text": [
      "3\n",
      "Greetings!\n"
     ]
    }
   ],
   "source": [
    "#Q8. Write code that prints Hello if 1 is stored in spam, prints How are you if 2 is stored in spam, and prints\n",
    "#Greetings! if anything else is stored in spam.\n",
    "spam=int(input())\n",
    "if spam==1:\n",
    "    print(\"Hello\")\n",
    "if spam==2:\n",
    "        print(\"How are you\" )\n",
    "else:\n",
    "     print(\"Greetings!\")"
   ]
  },
  {
   "cell_type": "code",
   "execution_count": null,
   "id": "f10c8da3",
   "metadata": {},
   "outputs": [],
   "source": [
    "#Q9.If your programme is stuck in an endless loop, what keys you’ll press?\n",
    "# Ans.Interrupt "
   ]
  },
  {
   "cell_type": "code",
   "execution_count": null,
   "id": "38a0c6e8",
   "metadata": {},
   "outputs": [],
   "source": [
    "#Q10. How can you tell the difference between break and continue?\n",
    "#Break----Terminate the current loop. Use the break statement to come out of the loop instantly.\n",
    "#Continue------Skip the current iteration of a loop and move to the next iteration"
   ]
  },
  {
   "cell_type": "code",
   "execution_count": null,
   "id": "0a925d2a",
   "metadata": {},
   "outputs": [],
   "source": [
    "#Q11. In a for loop, what is the difference between range(10), range(0, 10), and range(0, 10, 1)?\n",
    "#range(start,stop,step)\n",
    "#range(10)-----strat from 10.\n",
    "#range(0, 10)-------strat from 0 end at 10.\n",
    "#(0, 10, 1)----------start from 0 end at 10 take a step or jump of 1."
   ]
  },
  {
   "cell_type": "code",
   "execution_count": 30,
   "id": "8ee667c1",
   "metadata": {},
   "outputs": [
    {
     "name": "stdout",
     "output_type": "stream",
     "text": [
      "1\n",
      "2\n",
      "3\n",
      "4\n",
      "5\n",
      "6\n",
      "7\n",
      "8\n",
      "9\n",
      "10\n"
     ]
    }
   ],
   "source": [
    "#Q12. Write a short program that prints the numbers 1 to 10 using a for loop. Then write an equivalent\n",
    "#program that prints the numbers 1 to 10 using a while loop.\n",
    "for i in range(1,11):\n",
    "    print(i)"
   ]
  },
  {
   "cell_type": "code",
   "execution_count": 34,
   "id": "d51da2a6",
   "metadata": {},
   "outputs": [
    {
     "name": "stdout",
     "output_type": "stream",
     "text": [
      "1\n",
      "2\n",
      "3\n",
      "4\n",
      "5\n",
      "6\n",
      "7\n",
      "8\n",
      "9\n",
      "10\n"
     ]
    }
   ],
   "source": [
    "i=1\n",
    "while i<=10:\n",
    "    print(i)\n",
    "    i=i+1"
   ]
  },
  {
   "cell_type": "code",
   "execution_count": null,
   "id": "3643e86a",
   "metadata": {},
   "outputs": [],
   "source": []
  }
 ],
 "metadata": {
  "kernelspec": {
   "display_name": "Python 3 (ipykernel)",
   "language": "python",
   "name": "python3"
  },
  "language_info": {
   "codemirror_mode": {
    "name": "ipython",
    "version": 3
   },
   "file_extension": ".py",
   "mimetype": "text/x-python",
   "name": "python",
   "nbconvert_exporter": "python",
   "pygments_lexer": "ipython3",
   "version": "3.9.0"
  }
 },
 "nbformat": 4,
 "nbformat_minor": 5
}
